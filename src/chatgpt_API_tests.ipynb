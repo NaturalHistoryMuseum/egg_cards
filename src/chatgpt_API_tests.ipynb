{
 "cells": [
  {
   "cell_type": "markdown",
   "id": "e57df133",
   "metadata": {},
   "source": [
    "# ChatGPT API Tests"
   ]
  },
  {
   "cell_type": "markdown",
   "id": "c3009a75",
   "metadata": {},
   "source": [
    "### Imports"
   ]
  },
  {
   "cell_type": "code",
   "execution_count": 1,
   "id": "36858a09",
   "metadata": {},
   "outputs": [],
   "source": [
    "import base64\n",
    "import requests\n",
    "import os\n",
    "import tqdm\n",
    "import re\n",
    "import pandas as pd\n",
    "import json"
   ]
  },
  {
   "cell_type": "markdown",
   "id": "052efe4d",
   "metadata": {},
   "source": [
    "### Functions"
   ]
  },
  {
   "cell_type": "markdown",
   "id": "ed6ab09d",
   "metadata": {},
   "source": [
    "#### Image Encoding"
   ]
  },
  {
   "cell_type": "code",
   "execution_count": 2,
   "id": "3862e750",
   "metadata": {},
   "outputs": [],
   "source": [
    "def encode_image(image_path):\n",
    "    with open(image_path, \"rb\") as image_file:\n",
    "        return base64.b64encode(image_file.read()).decode('utf-8')"
   ]
  },
  {
   "cell_type": "markdown",
   "id": "0312213b",
   "metadata": {},
   "source": [
    "#### Payload"
   ]
  },
  {
   "cell_type": "code",
   "execution_count": 3,
   "id": "88061c2a",
   "metadata": {},
   "outputs": [],
   "source": [
    "def get_payload(image_path,prompt_text,detail=\"auto\"):\n",
    "    \n",
    "    base64_image = encode_image(image_path)\n",
    "    \n",
    "    payload = {\n",
    "      \"model\": \"gpt-4-turbo\",\n",
    "      \"messages\": [\n",
    "        {\n",
    "          \"role\": \"user\",\n",
    "          \"content\": [\n",
    "            {\n",
    "              \"type\": \"text\",\n",
    "                \"text\": prompt_text\n",
    "            },\n",
    "            {\n",
    "              \"type\": \"image_url\",\n",
    "              \"image_url\": {\n",
    "                \"url\": f\"data:image/jpeg;base64,{base64_image}\",\n",
    "                  \"detail\":detail\n",
    "              }\n",
    "            }\n",
    "          ]\n",
    "        }\n",
    "      ],\n",
    "      \"max_tokens\": 300\n",
    "    }\n",
    "    \n",
    "    return payload"
   ]
  },
  {
   "cell_type": "markdown",
   "id": "7fea1c04",
   "metadata": {},
   "source": [
    "### Additional Detail"
   ]
  },
  {
   "cell_type": "code",
   "execution_count": 4,
   "id": "fe79351d",
   "metadata": {},
   "outputs": [],
   "source": [
    "api_key = \"\""
   ]
  },
  {
   "cell_type": "code",
   "execution_count": 5,
   "id": "155d03d0",
   "metadata": {},
   "outputs": [],
   "source": [
    "headers = {\n",
    "  \"Content-Type\": \"application/json\",\n",
    "  \"Authorization\": f\"Bearer {api_key}\"\n",
    "}"
   ]
  },
  {
   "cell_type": "markdown",
   "id": "ea806f5b",
   "metadata": {},
   "source": [
    "### Singular Test"
   ]
  },
  {
   "cell_type": "code",
   "execution_count": 4,
   "id": "25550c97",
   "metadata": {},
   "outputs": [],
   "source": [
    "image_path = \"/home/arias1/Documents/GitHub/egg_cards/paths_to_test/001-0042.png\""
   ]
  },
  {
   "cell_type": "code",
   "execution_count": 5,
   "id": "95de6911",
   "metadata": {},
   "outputs": [],
   "source": [
    "base64_image = encode_image(image_path)"
   ]
  },
  {
   "cell_type": "code",
   "execution_count": 8,
   "id": "2477057a",
   "metadata": {},
   "outputs": [],
   "source": [
    "payload = {\n",
    "  \"model\": \"gpt-4-turbo\",\n",
    "  \"messages\": [\n",
    "    {\n",
    "      \"role\": \"user\",\n",
    "      \"content\": [\n",
    "        {\n",
    "          \"type\": \"text\",\n",
    "            \"text\": \"Extract data from this image. Fields to include are: Registration Number, Locality, Collector, Date, Set Mark and Number of eggs. The values are written inside the field boxes. Structure the response as JSON\"\n",
    "        },\n",
    "        {\n",
    "          \"type\": \"image_url\",\n",
    "          \"image_url\": {\n",
    "            \"url\": f\"data:image/jpeg;base64,{base64_image}\"\n",
    "          }\n",
    "        }\n",
    "      ]\n",
    "    }\n",
    "  ],\n",
    "  \"max_tokens\": 300\n",
    "}"
   ]
  },
  {
   "cell_type": "code",
   "execution_count": 9,
   "id": "7638ddda",
   "metadata": {},
   "outputs": [],
   "source": [
    "response = requests.post(\"https://api.openai.com/v1/chat/completions\", headers=headers, json=payload)"
   ]
  },
  {
   "cell_type": "code",
   "execution_count": 10,
   "id": "0d63b413",
   "metadata": {},
   "outputs": [
    {
     "name": "stdout",
     "output_type": "stream",
     "text": [
      "{'id': 'chatcmpl-9CoQL14fNQAa933M0ge42Dx17BCMS', 'object': 'chat.completion', 'created': 1712840793, 'model': 'gpt-4-turbo-2024-04-09', 'choices': [{'index': 0, 'message': {'role': 'assistant', 'content': '```json\\n{\\n  \"Registration Number\": \"B.M.-NAT. HIST. REG. NO. 1932-11-1.7\",\\n  \"Locality\": \"Matau\",\\n  \"Collector\": \"H. St. J. Philby\",\\n  \"Date\": \"3 August 1936\",\\n  \"Set Mark\": \"1-42\",\\n  \"Number of Eggs\": \"Fragments\"\\n}\\n```'}, 'logprobs': None, 'finish_reason': 'stop'}], 'usage': {'prompt_tokens': 1154, 'completion_tokens': 90, 'total_tokens': 1244}, 'system_fingerprint': 'fp_d1bac968b4'}\n"
     ]
    }
   ],
   "source": [
    "print(response.json())"
   ]
  },
  {
   "cell_type": "markdown",
   "id": "e7f6968c",
   "metadata": {},
   "source": [
    "### Looped Tests"
   ]
  },
  {
   "cell_type": "markdown",
   "id": "35c8463b",
   "metadata": {},
   "source": [
    "#### API Call"
   ]
  },
  {
   "cell_type": "code",
   "execution_count": 6,
   "id": "daa2a9d1",
   "metadata": {},
   "outputs": [],
   "source": [
    "prompt=\"Extract the data from this image. Fields to include are: Filename, Species, Registration Number, Locality, Collector, Date, Set Mark, Number of Eggs, Additional Text. The values are written inside the field boxes. Structure the response as JSON. The Species is written in the top horizontal box. The Additional Text is in the lowest horizontal box. For the Additional Text field, include all text written in the Additional Text box.\""
   ]
  },
  {
   "cell_type": "code",
   "execution_count": 7,
   "id": "5383072c",
   "metadata": {},
   "outputs": [
    {
     "name": "stderr",
     "output_type": "stream",
     "text": [
      "100%|███████████████████████████████████████████████████████████████████████████████████| 20/20 [04:11<00:00, 12.58s/it]\n"
     ]
    }
   ],
   "source": [
    "full_path = '/home/arias1/Documents/GitHub/egg_cards/chatgpt_tests'\n",
    "\n",
    "all_new_responses = []\n",
    "for image_path in tqdm.tqdm(os.listdir(full_path)[:20]):\n",
    "    payload = get_payload(full_path+'/'+image_path,prompt)\n",
    "    response = requests.post(\"https://api.openai.com/v1/chat/completions\", headers=headers, json=payload)\n",
    "    text = response.json()['choices'][0]['message']['content']\n",
    "    all_new_responses.append(text)"
   ]
  },
  {
   "cell_type": "markdown",
   "id": "e6e7cccb",
   "metadata": {},
   "source": [
    "#### CSV Outputs"
   ]
  },
  {
   "cell_type": "code",
   "execution_count": 8,
   "id": "5739da89",
   "metadata": {},
   "outputs": [],
   "source": [
    "outputs_formatted = []\n",
    "\n",
    "for r in all_new_responses:\n",
    "    p1 = re.search('\\n{\\n',r).span()[0]\n",
    "    p2 = re.search('\\n}\\n',r).span()[1]\n",
    "    \n",
    "    result = json.loads(r[p1:p2])\n",
    "\n",
    "    outputs_formatted.append(result)"
   ]
  },
  {
   "cell_type": "code",
   "execution_count": 9,
   "id": "694ca7d1",
   "metadata": {},
   "outputs": [],
   "source": [
    "outputs_df = pd.DataFrame(outputs_formatted)"
   ]
  },
  {
   "cell_type": "code",
   "execution_count": null,
   "id": "2f46c4d9",
   "metadata": {
    "scrolled": false
   },
   "outputs": [],
   "source": [
    "outputs_df.insert(0, 'Filename', os.listdir(full_path))"
   ]
  },
  {
   "cell_type": "code",
   "execution_count": 114,
   "id": "c43bde4c",
   "metadata": {},
   "outputs": [],
   "source": [
    "outputs_df['Filename'] = os.listdir(full_path)"
   ]
  },
  {
   "cell_type": "code",
   "execution_count": 10,
   "id": "586413d2",
   "metadata": {},
   "outputs": [],
   "source": [
    "outputs_df.to_csv('chatgpt_tests3.csv',index=False)"
   ]
  },
  {
   "cell_type": "markdown",
   "id": "3427704b",
   "metadata": {},
   "source": [
    "### Low vs Auto Detail Tests"
   ]
  },
  {
   "cell_type": "code",
   "execution_count": null,
   "id": "a10a556c",
   "metadata": {},
   "outputs": [],
   "source": [
    "path_to_images = '/home/arias1/Documents/GitHub/egg_cards/paths_to_test'\n",
    "\n",
    "all_responses_low = []\n",
    "for image_path in os.listdir(path_to_images):\n",
    "    payload = get_payload(path_to_images+'/'+image_path,detail=\"low\")\n",
    "    response = requests.post(\"https://api.openai.com/v1/chat/completions\", headers=headers, json=payload)\n",
    "    text = response.json()['choices'][0]['message']['content']\n",
    "    all_responses_low.append(text)"
   ]
  },
  {
   "cell_type": "code",
   "execution_count": 66,
   "id": "dae11669",
   "metadata": {},
   "outputs": [],
   "source": [
    "outputs_auto = []\n",
    "outputs_low = []\n",
    "\n",
    "for i,r in enumerate(all_responses):\n",
    "    j_a = json.loads(r[8:-3])\n",
    "    try:\n",
    "        j_l = json.loads(all_responses_low[i][8:-3])\n",
    "    except:\n",
    "        j_l = json.loads(all_responses_low[i][67:-3])\n",
    "\n",
    "    outputs_auto.append(j_a)\n",
    "    outputs_low.append(j_l)"
   ]
  },
  {
   "cell_type": "code",
   "execution_count": 131,
   "id": "d39c1fcc",
   "metadata": {},
   "outputs": [
    {
     "data": {
      "text/html": [
       "<div>\n",
       "<style scoped>\n",
       "    .dataframe tbody tr th:only-of-type {\n",
       "        vertical-align: middle;\n",
       "    }\n",
       "\n",
       "    .dataframe tbody tr th {\n",
       "        vertical-align: top;\n",
       "    }\n",
       "\n",
       "    .dataframe thead th {\n",
       "        text-align: right;\n",
       "    }\n",
       "</style>\n",
       "<table border=\"1\" class=\"dataframe\">\n",
       "  <thead>\n",
       "    <tr style=\"text-align: right;\">\n",
       "      <th></th>\n",
       "      <th>Registration Number</th>\n",
       "      <th>Locality</th>\n",
       "      <th>Collector</th>\n",
       "      <th>Date</th>\n",
       "      <th>Set Mark</th>\n",
       "      <th>Number of Eggs</th>\n",
       "    </tr>\n",
       "  </thead>\n",
       "  <tbody>\n",
       "    <tr>\n",
       "      <th>0</th>\n",
       "      <td>1-42</td>\n",
       "      <td>Matru</td>\n",
       "      <td>H. St. J. Philby</td>\n",
       "      <td>3 August 1936</td>\n",
       "      <td>Fragments found</td>\n",
       "      <td>Fragments</td>\n",
       "    </tr>\n",
       "    <tr>\n",
       "      <th>1</th>\n",
       "      <td>1-123</td>\n",
       "      <td></td>\n",
       "      <td>Buckley Collection</td>\n",
       "      <td></td>\n",
       "      <td>276 ♂</td>\n",
       "      <td>1</td>\n",
       "    </tr>\n",
       "    <tr>\n",
       "      <th>2</th>\n",
       "      <td>1911.8.4.2</td>\n",
       "      <td>Rio Grande do Sul, Brazil</td>\n",
       "      <td>J. Fothering</td>\n",
       "      <td>-</td>\n",
       "      <td>-</td>\n",
       "      <td>2</td>\n",
       "    </tr>\n",
       "    <tr>\n",
       "      <th>3</th>\n",
       "      <td>1-96</td>\n",
       "      <td>Somaliland</td>\n",
       "      <td>Old Collection</td>\n",
       "      <td></td>\n",
       "      <td></td>\n",
       "      <td>1</td>\n",
       "    </tr>\n",
       "  </tbody>\n",
       "</table>\n",
       "</div>"
      ],
      "text/plain": [
       "  Registration Number                   Locality           Collector  \\\n",
       "0                1-42                      Matru    H. St. J. Philby   \n",
       "1               1-123                             Buckley Collection   \n",
       "2          1911.8.4.2  Rio Grande do Sul, Brazil        J. Fothering   \n",
       "3                1-96                 Somaliland      Old Collection   \n",
       "\n",
       "            Date         Set Mark Number of Eggs  \n",
       "0  3 August 1936  Fragments found      Fragments  \n",
       "1                           276 ♂              1  \n",
       "2              -                -              2  \n",
       "3                                              1  "
      ]
     },
     "execution_count": 131,
     "metadata": {},
     "output_type": "execute_result"
    }
   ],
   "source": [
    "pd.DataFrame(outputs_low)"
   ]
  },
  {
   "cell_type": "code",
   "execution_count": 70,
   "id": "9426d401",
   "metadata": {},
   "outputs": [
    {
     "data": {
      "text/html": [
       "<div>\n",
       "<style scoped>\n",
       "    .dataframe tbody tr th:only-of-type {\n",
       "        vertical-align: middle;\n",
       "    }\n",
       "\n",
       "    .dataframe tbody tr th {\n",
       "        vertical-align: top;\n",
       "    }\n",
       "\n",
       "    .dataframe thead th {\n",
       "        text-align: right;\n",
       "    }\n",
       "</style>\n",
       "<table border=\"1\" class=\"dataframe\">\n",
       "  <thead>\n",
       "    <tr style=\"text-align: right;\">\n",
       "      <th></th>\n",
       "      <th>Registration Number</th>\n",
       "      <th>Locality</th>\n",
       "      <th>Collector</th>\n",
       "      <th>Date</th>\n",
       "      <th>Set Mark</th>\n",
       "      <th>Number of Eggs</th>\n",
       "      <th>Number of eggs</th>\n",
       "    </tr>\n",
       "  </thead>\n",
       "  <tbody>\n",
       "    <tr>\n",
       "      <th>0</th>\n",
       "      <td>1932.11.1.7</td>\n",
       "      <td>Matau</td>\n",
       "      <td>H. St. J. Philby</td>\n",
       "      <td>3 August 1936</td>\n",
       "      <td>1-42</td>\n",
       "      <td>Fragments</td>\n",
       "      <td>NaN</td>\n",
       "    </tr>\n",
       "    <tr>\n",
       "      <th>1</th>\n",
       "      <td>1-123</td>\n",
       "      <td></td>\n",
       "      <td>Buckley Collection</td>\n",
       "      <td></td>\n",
       "      <td>276 ♂</td>\n",
       "      <td>NaN</td>\n",
       "      <td>1</td>\n",
       "    </tr>\n",
       "    <tr>\n",
       "      <th>2</th>\n",
       "      <td>1842.9.6.2</td>\n",
       "      <td>Rio Grande Do Sul South, Brazil</td>\n",
       "      <td>Dr von Ihering</td>\n",
       "      <td></td>\n",
       "      <td></td>\n",
       "      <td>2</td>\n",
       "      <td>NaN</td>\n",
       "    </tr>\n",
       "    <tr>\n",
       "      <th>3</th>\n",
       "      <td>1-96</td>\n",
       "      <td>Somaliland</td>\n",
       "      <td>Old Collection</td>\n",
       "      <td></td>\n",
       "      <td></td>\n",
       "      <td>1</td>\n",
       "      <td>NaN</td>\n",
       "    </tr>\n",
       "  </tbody>\n",
       "</table>\n",
       "</div>"
      ],
      "text/plain": [
       "  Registration Number                         Locality           Collector  \\\n",
       "0         1932.11.1.7                            Matau    H. St. J. Philby   \n",
       "1               1-123                                   Buckley Collection   \n",
       "2          1842.9.6.2  Rio Grande Do Sul South, Brazil      Dr von Ihering   \n",
       "3                1-96                       Somaliland      Old Collection   \n",
       "\n",
       "            Date Set Mark Number of Eggs Number of eggs  \n",
       "0  3 August 1936     1-42      Fragments            NaN  \n",
       "1                   276 ♂            NaN              1  \n",
       "2                                      2            NaN  \n",
       "3                                      1            NaN  "
      ]
     },
     "execution_count": 70,
     "metadata": {},
     "output_type": "execute_result"
    }
   ],
   "source": [
    "pd.DataFrame(outputs_auto)"
   ]
  },
  {
   "cell_type": "code",
   "execution_count": null,
   "id": "71af909b",
   "metadata": {},
   "outputs": [],
   "source": []
  }
 ],
 "metadata": {
  "kernelspec": {
   "display_name": "Python 3 (ipykernel)",
   "language": "python",
   "name": "python3"
  },
  "language_info": {
   "codemirror_mode": {
    "name": "ipython",
    "version": 3
   },
   "file_extension": ".py",
   "mimetype": "text/x-python",
   "name": "python",
   "nbconvert_exporter": "python",
   "pygments_lexer": "ipython3",
   "version": "3.9.5"
  }
 },
 "nbformat": 4,
 "nbformat_minor": 5
}
