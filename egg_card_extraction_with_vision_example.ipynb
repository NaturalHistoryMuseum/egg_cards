{
 "cells": [
  {
   "cell_type": "markdown",
   "id": "9e51383e",
   "metadata": {},
   "source": [
    "# Egg Card Data Extraction w. Google Vision\n",
    "\n",
    "We first run all images through the Google Vision API and obtain a json file for each image. Using these results, we locate the boxes in the egg cards and categorise the Vision results. The final output is a CSV for each drawer of images."
   ]
  },
  {
   "cell_type": "markdown",
   "id": "d301b435",
   "metadata": {},
   "source": [
    "#### Imports"
   ]
  },
  {
   "cell_type": "code",
   "execution_count": null,
   "id": "0180d3f8",
   "metadata": {},
   "outputs": [],
   "source": [
    "from gvision_based_functions import v_get_all_card_info\n",
    "import os\n",
    "import re\n",
    "import pandas as pd\n",
    "import tqdm\n",
    "import numpy as np\n",
    "from copy import deepcopy"
   ]
  },
  {
   "cell_type": "markdown",
   "id": "2c9dcce4",
   "metadata": {},
   "source": [
    "### Data"
   ]
  },
  {
   "cell_type": "markdown",
   "id": "09770c3b",
   "metadata": {},
   "source": [
    "#### Vision Results"
   ]
  },
  {
   "cell_type": "code",
   "execution_count": null,
   "id": "64931de5",
   "metadata": {},
   "outputs": [],
   "source": [
    "json_path = '/home/arias1/Downloads/Drawer_43'"
   ]
  },
  {
   "cell_type": "code",
   "execution_count": null,
   "id": "26c4d0d5",
   "metadata": {},
   "outputs": [],
   "source": [
    "files = os.listdir(json_path)"
   ]
  },
  {
   "cell_type": "markdown",
   "id": "7ff84898",
   "metadata": {},
   "source": [
    "#### Images"
   ]
  },
  {
   "cell_type": "code",
   "execution_count": null,
   "id": "93816de3",
   "metadata": {},
   "outputs": [],
   "source": [
    "image_path = '/home/arias1/Documents/GitHub/egg_cards/Images_new/Drawer_43/resized'"
   ]
  },
  {
   "cell_type": "code",
   "execution_count": null,
   "id": "528bf4af",
   "metadata": {},
   "outputs": [],
   "source": [
    "images = [re.findall('(\\d+-\\d+[a-b]|\\d+-\\d+)',f)[0] for f in files]"
   ]
  },
  {
   "cell_type": "markdown",
   "id": "925ec416",
   "metadata": {},
   "source": [
    "### Egg Card Extraction"
   ]
  },
  {
   "cell_type": "code",
   "execution_count": null,
   "id": "73bdf1ce",
   "metadata": {},
   "outputs": [],
   "source": [
    "errors = []\n",
    "id_images = []\n",
    "for i,file in tqdm.tqdm(enumerate(files)):\n",
    "    try:\n",
    "        image = images[i]\n",
    "        path_to_json = json_path+'/'+file\n",
    "        path_to_image = image_path+'/'+image+'.png'    \n",
    "        img,all_info = v_get_all_card_info(path_to_json, path_to_image)\n",
    "\n",
    "        if i == 0:\n",
    "            output = pd.DataFrame()\n",
    "       # all_info['id'] = image\n",
    "        id_images.append(image)\n",
    "        df_dictionary = pd.DataFrame([all_info])\n",
    "        output = pd.concat([output, df_dictionary], ignore_index=True)\n",
    "    except:\n",
    "        errors.append(file)\n",
    "        \n",
    "output.insert(0, 'Drawer/ID', id_images)"
   ]
  },
  {
   "cell_type": "markdown",
   "id": "8a8a8416",
   "metadata": {},
   "source": [
    "#### Save Results"
   ]
  },
  {
   "cell_type": "code",
   "execution_count": null,
   "id": "be6369aa",
   "metadata": {},
   "outputs": [],
   "source": [
    "pd.DataFrame(errors).to_csv('errors_d43_final_v2.csv',index=False)"
   ]
  },
  {
   "cell_type": "code",
   "execution_count": null,
   "id": "45817d84",
   "metadata": {},
   "outputs": [],
   "source": [
    "output.to_csv('drawer_43_final_results.csv',index=False)"
   ]
  }
 ],
 "metadata": {
  "kernelspec": {
   "display_name": "Python 3 (ipykernel)",
   "language": "python",
   "name": "python3"
  },
  "language_info": {
   "codemirror_mode": {
    "name": "ipython",
    "version": 3
   },
   "file_extension": ".py",
   "mimetype": "text/x-python",
   "name": "python",
   "nbconvert_exporter": "python",
   "pygments_lexer": "ipython3",
   "version": "3.9.5"
  }
 },
 "nbformat": 4,
 "nbformat_minor": 5
}
