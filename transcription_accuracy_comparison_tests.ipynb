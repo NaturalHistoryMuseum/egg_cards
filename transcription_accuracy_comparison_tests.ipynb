{
 "cells": [
  {
   "cell_type": "markdown",
   "id": "355c9faf",
   "metadata": {},
   "source": [
    "## Comparing Algorithm to Handwritten Transcription of Egg Cards"
   ]
  },
  {
   "cell_type": "markdown",
   "id": "c09cb472",
   "metadata": {},
   "source": [
    "## Scoring\n",
    "\n",
    "We will compare a random sample of results from our algorithm to the handwritten transcriptions. To create a sample, we filter out entries with low score, where the score is based on the number of empty values for categories."
   ]
  },
  {
   "cell_type": "markdown",
   "id": "a0492342",
   "metadata": {},
   "source": [
    "#### Imports"
   ]
  },
  {
   "cell_type": "code",
   "execution_count": 1,
   "id": "b0ea126d",
   "metadata": {},
   "outputs": [],
   "source": [
    "import pandas as pd\n",
    "import os\n",
    "import re\n",
    "import numpy as np"
   ]
  },
  {
   "cell_type": "markdown",
   "id": "eebbd717",
   "metadata": {},
   "source": [
    "#### Categories to test"
   ]
  },
  {
   "cell_type": "code",
   "execution_count": 41,
   "id": "bac7e396",
   "metadata": {},
   "outputs": [],
   "source": [
    "categories_to_score = ['cardSpecies', ['order', 'family', 'genus', 'species'], 'registrationNumber', \n",
    " 'locality', 'collector', 'date', 'setMark', 'noOfEggs']"
   ]
  },
  {
   "cell_type": "markdown",
   "id": "a62bb54f",
   "metadata": {},
   "source": [
    "#### Functions"
   ]
  },
  {
   "cell_type": "code",
   "execution_count": 2,
   "id": "e8eb2e2c",
   "metadata": {},
   "outputs": [],
   "source": [
    "def is_nan_(w):\n",
    "    try:\n",
    "        return np.isnan(w)\n",
    "    except:\n",
    "        return False"
   ]
  },
  {
   "cell_type": "code",
   "execution_count": 44,
   "id": "4b46a0e8",
   "metadata": {},
   "outputs": [],
   "source": [
    "def get_score(sample):\n",
    "\n",
    "    score = 0\n",
    "    for category in categories_to_score:\n",
    "        if type(category) is str:\n",
    "            text = sample[category]\n",
    "            if is_nan_(text) is False:\n",
    "                score += 1\n",
    "        else:\n",
    "            pre_score = 0\n",
    "            for cat in category:\n",
    "                text = sample[cat]\n",
    "                if is_nan_(text) is False:\n",
    "                    pre_score += 1\n",
    "            if pre_score >= 2:\n",
    "                score+=1\n",
    "\n",
    "    return score        "
   ]
  },
  {
   "cell_type": "code",
   "execution_count": 59,
   "id": "5685b3ce",
   "metadata": {},
   "outputs": [],
   "source": [
    "def get_list_of_index_to_keep(df):\n",
    "    sample_scores = {}\n",
    "\n",
    "    n = len(df)\n",
    "\n",
    "    for i in range(n):\n",
    "        keep = False\n",
    "        sample = df.iloc[i]\n",
    "        id_ = sample[0]\n",
    "        score = get_score(sample)\n",
    "        if score >= 6:\n",
    "            keep = True\n",
    "        sample_scores[id_] = keep\n",
    "        \n",
    "    return list(sample_scores.values())"
   ]
  },
  {
   "cell_type": "markdown",
   "id": "2be81196",
   "metadata": {},
   "source": [
    "#### Test"
   ]
  },
  {
   "cell_type": "code",
   "execution_count": 2,
   "id": "e0f31c8b",
   "metadata": {},
   "outputs": [],
   "source": [
    "path = 'corrected/sample'"
   ]
  },
  {
   "cell_type": "code",
   "execution_count": 3,
   "id": "1ba3b42e",
   "metadata": {},
   "outputs": [],
   "source": [
    "files = os.listdir(path)"
   ]
  },
  {
   "cell_type": "code",
   "execution_count": 5,
   "id": "fadbb602",
   "metadata": {},
   "outputs": [],
   "source": [
    "df = pd.read_csv(path+'/'+files[0])"
   ]
  },
  {
   "cell_type": "code",
   "execution_count": 36,
   "id": "02a23679",
   "metadata": {},
   "outputs": [],
   "source": [
    "sample = df.iloc[0]"
   ]
  },
  {
   "cell_type": "code",
   "execution_count": 45,
   "id": "0519c675",
   "metadata": {},
   "outputs": [
    {
     "data": {
      "text/plain": [
       "4"
      ]
     },
     "execution_count": 45,
     "metadata": {},
     "output_type": "execute_result"
    }
   ],
   "source": [
    "get_score(sample)"
   ]
  },
  {
   "cell_type": "markdown",
   "id": "66f144c6",
   "metadata": {},
   "source": [
    "#### Filter / Save Results"
   ]
  },
  {
   "cell_type": "code",
   "execution_count": 65,
   "id": "72faac5c",
   "metadata": {},
   "outputs": [],
   "source": [
    "for file in files:\n",
    "    df = pd.read_csv(path+'/'+file)\n",
    "    keep = get_list_of_index_to_keep(df)\n",
    "    df['keep?'] = keep\n",
    "    df.to_csv('corrected/filtered/'+file[:-4]+'_filtered.csv',index=False)"
   ]
  },
  {
   "cell_type": "markdown",
   "id": "927e80e0",
   "metadata": {},
   "source": [
    "## Renaming IDs\n",
    "\n",
    "Our IDs were based on the image name. We create a new column called ID, with just the individual number, in order to be able to make matches with the handwritten transcription more earily. \n",
    "\n",
    "Example ID (from our results): 058-0595a. This will become 595."
   ]
  },
  {
   "cell_type": "code",
   "execution_count": 66,
   "id": "627d1373",
   "metadata": {},
   "outputs": [],
   "source": [
    "df = pd.read_csv('/home/arias1/Documents/GitHub/egg_cards/corrected/filtered/edited/drawer_58_results_nonbin_v2_filtered.csv')"
   ]
  },
  {
   "cell_type": "code",
   "execution_count": 70,
   "id": "b2b57f78",
   "metadata": {},
   "outputs": [],
   "source": [
    "ids_ = list(df['id'])"
   ]
  },
  {
   "cell_type": "code",
   "execution_count": 80,
   "id": "29fd55a6",
   "metadata": {},
   "outputs": [],
   "source": [
    "numbers = []\n",
    "\n",
    "for id_ in ids_:\n",
    "    numbers.append(int(re.findall('\\d+',id_)[-1]))"
   ]
  },
  {
   "cell_type": "code",
   "execution_count": 84,
   "id": "f0a04a9d",
   "metadata": {},
   "outputs": [],
   "source": [
    "for file in os.listdir('corrected/filtered/edited'):\n",
    "    df = pd.read_csv('corrected/filtered/edited/'+file)\n",
    "    numbers = []\n",
    "    ids_ = list(df['id'])\n",
    "    for id_ in ids_:\n",
    "        numbers.append(int(re.findall('\\d+',id_)[-1]))\n",
    "    df['newID'] = numbers\n",
    "    df.to_csv('corrected/filtered/edited2/'+file,index=False)"
   ]
  },
  {
   "cell_type": "markdown",
   "id": "b6a6462b",
   "metadata": {},
   "source": [
    "## Comparing Results\n",
    "\n",
    "We make a direct comparison between individual entries per ID, by category. For now, we focus on five categories:\n",
    "1. Registration year\n",
    "1. Family\n",
    "1. Genus\n",
    "1. Species\n",
    "1. Collector / Collection\n",
    "\n",
    "(Scroll to the bottom for general results)"
   ]
  },
  {
   "cell_type": "markdown",
   "id": "788112a9",
   "metadata": {},
   "source": [
    "#### Imports"
   ]
  },
  {
   "cell_type": "code",
   "execution_count": 32,
   "id": "ff5474be",
   "metadata": {},
   "outputs": [],
   "source": [
    "from fuzzywuzzy import fuzz\n",
    "import re\n",
    "import pandas as pd\n",
    "import numpy as np"
   ]
  },
  {
   "cell_type": "markdown",
   "id": "e3653907",
   "metadata": {},
   "source": [
    "#### Original data"
   ]
  },
  {
   "cell_type": "code",
   "execution_count": 24,
   "id": "1f0ec104",
   "metadata": {},
   "outputs": [],
   "source": [
    "df_act = pd.read_csv('58_real_test.csv')\n",
    "df_pred = pd.read_csv('corrected/filtered/edited2/drawer_58_results_nonbin_v2_filtered.csv')"
   ]
  },
  {
   "cell_type": "code",
   "execution_count": 94,
   "id": "2ba4e739",
   "metadata": {},
   "outputs": [
    {
     "data": {
      "text/html": [
       "<div>\n",
       "<style scoped>\n",
       "    .dataframe tbody tr th:only-of-type {\n",
       "        vertical-align: middle;\n",
       "    }\n",
       "\n",
       "    .dataframe tbody tr th {\n",
       "        vertical-align: top;\n",
       "    }\n",
       "\n",
       "    .dataframe thead th {\n",
       "        text-align: right;\n",
       "    }\n",
       "</style>\n",
       "<table border=\"1\" class=\"dataframe\">\n",
       "  <thead>\n",
       "    <tr style=\"text-align: right;\">\n",
       "      <th></th>\n",
       "      <th>ID</th>\n",
       "      <th>Drawer number</th>\n",
       "      <th>Card number</th>\n",
       "      <th>RegisterNumber(Year)</th>\n",
       "      <th>RegisterNumber(Month/Batch)</th>\n",
       "      <th>RegisterNumber(Day)</th>\n",
       "      <th>RegisterNumber(Start)</th>\n",
       "      <th>RegisterNumber(End)</th>\n",
       "      <th>RegisterNumber(Suffix)</th>\n",
       "      <th>Hybrid</th>\n",
       "      <th>...</th>\n",
       "      <th>Subspecies1</th>\n",
       "      <th>NameUncertain</th>\n",
       "      <th>Family2</th>\n",
       "      <th>Genus2</th>\n",
       "      <th>Subgenus2</th>\n",
       "      <th>Species2</th>\n",
       "      <th>Subspecies2</th>\n",
       "      <th>Host(Common Name)</th>\n",
       "      <th>Digitising Notes</th>\n",
       "      <th>Collection</th>\n",
       "    </tr>\n",
       "  </thead>\n",
       "  <tbody>\n",
       "    <tr>\n",
       "      <th>2</th>\n",
       "      <td>3</td>\n",
       "      <td>58</td>\n",
       "      <td>3</td>\n",
       "      <td>1901.0</td>\n",
       "      <td>11.0</td>\n",
       "      <td>20.0</td>\n",
       "      <td>126.0</td>\n",
       "      <td>NaN</td>\n",
       "      <td>NaN</td>\n",
       "      <td>0</td>\n",
       "      <td>...</td>\n",
       "      <td>picturata</td>\n",
       "      <td>0</td>\n",
       "      <td>NaN</td>\n",
       "      <td>NaN</td>\n",
       "      <td>NaN</td>\n",
       "      <td>NaN</td>\n",
       "      <td>NaN</td>\n",
       "      <td>NaN</td>\n",
       "      <td>NaN</td>\n",
       "      <td>Crowley Bequest</td>\n",
       "    </tr>\n",
       "  </tbody>\n",
       "</table>\n",
       "<p>1 rows × 24 columns</p>\n",
       "</div>"
      ],
      "text/plain": [
       "   ID  Drawer number  Card number  RegisterNumber(Year)  \\\n",
       "2   3             58            3                1901.0   \n",
       "\n",
       "   RegisterNumber(Month/Batch)  RegisterNumber(Day)  RegisterNumber(Start)  \\\n",
       "2                         11.0                 20.0                  126.0   \n",
       "\n",
       "   RegisterNumber(End) RegisterNumber(Suffix)  Hybrid  ... Subspecies1  \\\n",
       "2                  NaN                    NaN       0  ...   picturata   \n",
       "\n",
       "  NameUncertain  Family2 Genus2 Subgenus2  Species2  Subspecies2  \\\n",
       "2             0      NaN    NaN       NaN       NaN          NaN   \n",
       "\n",
       "  Host(Common Name)  Digitising Notes       Collection  \n",
       "2               NaN               NaN  Crowley Bequest  \n",
       "\n",
       "[1 rows x 24 columns]"
      ]
     },
     "execution_count": 94,
     "metadata": {},
     "output_type": "execute_result"
    }
   ],
   "source": [
    "df_act[df_act['ID']==3]"
   ]
  },
  {
   "cell_type": "code",
   "execution_count": 93,
   "id": "bfe9ae57",
   "metadata": {},
   "outputs": [
    {
     "data": {
      "text/html": [
       "<div>\n",
       "<style scoped>\n",
       "    .dataframe tbody tr th:only-of-type {\n",
       "        vertical-align: middle;\n",
       "    }\n",
       "\n",
       "    .dataframe tbody tr th {\n",
       "        vertical-align: top;\n",
       "    }\n",
       "\n",
       "    .dataframe thead th {\n",
       "        text-align: right;\n",
       "    }\n",
       "</style>\n",
       "<table border=\"1\" class=\"dataframe\">\n",
       "  <thead>\n",
       "    <tr style=\"text-align: right;\">\n",
       "      <th></th>\n",
       "      <th>imageID</th>\n",
       "      <th>ID</th>\n",
       "      <th>cardSpecies</th>\n",
       "      <th>order</th>\n",
       "      <th>family</th>\n",
       "      <th>genus</th>\n",
       "      <th>species</th>\n",
       "      <th>registrationNumber</th>\n",
       "      <th>locality</th>\n",
       "      <th>collector</th>\n",
       "      <th>date</th>\n",
       "      <th>setMark</th>\n",
       "      <th>noOfEggs</th>\n",
       "    </tr>\n",
       "  </thead>\n",
       "  <tbody>\n",
       "    <tr>\n",
       "      <th>3</th>\n",
       "      <td>058-0003</td>\n",
       "      <td>3</td>\n",
       "      <td>STREPTOPELIA PICTURATA PICTURATA</td>\n",
       "      <td>NaN</td>\n",
       "      <td>Columbidae</td>\n",
       "      <td>Streptopelia</td>\n",
       "      <td>Streptopelia picturata</td>\n",
       "      <td>8.901.11.20.126</td>\n",
       "      <td>Madagascar</td>\n",
       "      <td>but the Deans Cowal Foottit Collection Crowley...</td>\n",
       "      <td>28°</td>\n",
       "      <td>214A</td>\n",
       "      <td>_ |</td>\n",
       "    </tr>\n",
       "  </tbody>\n",
       "</table>\n",
       "</div>"
      ],
      "text/plain": [
       "    imageID  ID                       cardSpecies order      family  \\\n",
       "3  058-0003   3  STREPTOPELIA PICTURATA PICTURATA   NaN  Columbidae   \n",
       "\n",
       "          genus                 species registrationNumber    locality  \\\n",
       "3  Streptopelia  Streptopelia picturata    8.901.11.20.126  Madagascar   \n",
       "\n",
       "                                           collector date setMark noOfEggs  \n",
       "3  but the Deans Cowal Foottit Collection Crowley...  28°    214A      _ |  "
      ]
     },
     "execution_count": 93,
     "metadata": {},
     "output_type": "execute_result"
    }
   ],
   "source": [
    "df_pred[df_pred['ID']==3]"
   ]
  },
  {
   "cell_type": "markdown",
   "id": "f12e1649",
   "metadata": {},
   "source": [
    "#### Refined data (w. relevant categories)"
   ]
  },
  {
   "cell_type": "code",
   "execution_count": 25,
   "id": "4b318e7d",
   "metadata": {},
   "outputs": [],
   "source": [
    "cols_act = ['ID','Family1','RegisterNumber(Year)','Genus1','Species1','Subspecies1','Collection']"
   ]
  },
  {
   "cell_type": "code",
   "execution_count": 26,
   "id": "50265e29",
   "metadata": {},
   "outputs": [],
   "source": [
    "cols_pred = ['ID','family','registrationNumber','genus','species','collector']"
   ]
  },
  {
   "cell_type": "code",
   "execution_count": 27,
   "id": "293dc325",
   "metadata": {},
   "outputs": [],
   "source": [
    "df_pred_ = df_pred[cols_pred]\n",
    "df_act_ = df_act[cols_act]"
   ]
  },
  {
   "cell_type": "code",
   "execution_count": 28,
   "id": "4c2411b2",
   "metadata": {},
   "outputs": [],
   "source": [
    "IDs_to_check = list(df_pred_['ID'])"
   ]
  },
  {
   "cell_type": "markdown",
   "id": "c3395dcc",
   "metadata": {},
   "source": [
    "### 1) Registration year"
   ]
  },
  {
   "cell_type": "code",
   "execution_count": 46,
   "id": "a1f31c9c",
   "metadata": {},
   "outputs": [],
   "source": [
    "def check_reg_year(tst_a,tst_p):\n",
    "    same = 0\n",
    "    try:\n",
    "        p = np.int_(re.findall('\\d\\d\\d\\d',tst_p['registrationNumber'].iloc[0]))\n",
    "        a = int(tst_a['RegisterNumber(Year)'].iloc[0])\n",
    "        if a in p:\n",
    "            same = 1\n",
    "    except:\n",
    "        pass\n",
    "    return same"
   ]
  },
  {
   "cell_type": "code",
   "execution_count": 47,
   "id": "5cc5bb68",
   "metadata": {},
   "outputs": [],
   "source": [
    "reg_rate = {}\n",
    "for id_ in IDs_to_check:\n",
    "    tst_a = df_act_[df_act['ID']==id_]\n",
    "    tst_p = df_pred_[df_pred['ID']==id_]\n",
    "    if is_nan_(tst_p['registrationNumber'].iloc[0]) is False:\n",
    "        reg = check_reg_year(tst_a,tst_p)\n",
    "        reg_rate[str(id_)] = reg"
   ]
  },
  {
   "cell_type": "code",
   "execution_count": 48,
   "id": "35526324",
   "metadata": {},
   "outputs": [
    {
     "data": {
      "text/plain": [
       "100.0"
      ]
     },
     "execution_count": 48,
     "metadata": {},
     "output_type": "execute_result"
    }
   ],
   "source": [
    "np.ceil((sum(list(reg_rate.values()))/sum(list(reg_rate.values())))*100)"
   ]
  },
  {
   "cell_type": "markdown",
   "id": "e0706b3e",
   "metadata": {},
   "source": [
    "### 2) Family"
   ]
  },
  {
   "cell_type": "code",
   "execution_count": 49,
   "id": "c2df5c3d",
   "metadata": {},
   "outputs": [
    {
     "name": "stdout",
     "output_type": "stream",
     "text": [
      "[24, 24]\n"
     ]
    }
   ],
   "source": [
    "k = 0\n",
    "n = 0\n",
    "inds = []\n",
    "\n",
    "for id_ in IDs_to_check:\n",
    "    tst_a = df_act_[df_act['ID']==id_]\n",
    "    tst_p = df_pred_[df_pred['ID']==id_]\n",
    "    \n",
    "    fam_a = tst_a['Family1'].iloc[0]\n",
    "    fam_p = tst_p['family'].iloc[0]\n",
    "\n",
    "    if (is_nan_(fam_a) == False) and (is_nan_(fam_p) == False):\n",
    "        if fam_a == fam_p:\n",
    "            k = k+1\n",
    "        n +=1\n",
    "        inds.append(id_)\n",
    "\n",
    "    \n",
    "print([k,n])"
   ]
  },
  {
   "cell_type": "code",
   "execution_count": 50,
   "id": "52b28efa",
   "metadata": {},
   "outputs": [
    {
     "data": {
      "text/plain": [
       "100.0"
      ]
     },
     "execution_count": 50,
     "metadata": {},
     "output_type": "execute_result"
    }
   ],
   "source": [
    "np.ceil((k/n)*100)"
   ]
  },
  {
   "cell_type": "markdown",
   "id": "532034b9",
   "metadata": {},
   "source": [
    "### 3) Genus"
   ]
  },
  {
   "cell_type": "code",
   "execution_count": 51,
   "id": "15aa81e4",
   "metadata": {},
   "outputs": [
    {
     "name": "stdout",
     "output_type": "stream",
     "text": [
      "[165, 179]\n"
     ]
    }
   ],
   "source": [
    "k2 = 0\n",
    "n2 = 0\n",
    "inds = []\n",
    "bla = []\n",
    "\n",
    "for id_ in IDs_to_check:\n",
    "    tst_a = df_act_[df_act['ID']==id_]\n",
    "    tst_p = df_pred_[df_pred['ID']==id_]\n",
    "    \n",
    "    fam_a = tst_a['Genus1'].iloc[0]\n",
    "    fam_p = tst_p['genus'].iloc[0]\n",
    "\n",
    "    if (is_nan_(fam_a) == False) and (is_nan_(fam_p) == False):\n",
    "        if fam_a == fam_p:\n",
    "            k2 = k2+1\n",
    "        else:\n",
    "            r = fuzz.ratio(fam_a, fam_p)\n",
    "            if r > 90:\n",
    "                k2 = k2+1\n",
    "                bla.append([fam_a,fam_p])\n",
    "\n",
    "        n2 +=1\n",
    "        inds.append(id_)\n",
    "\n",
    "    \n",
    "print([k2,n2])"
   ]
  },
  {
   "cell_type": "code",
   "execution_count": 52,
   "id": "12bd0c48",
   "metadata": {},
   "outputs": [
    {
     "data": {
      "text/plain": [
       "93.0"
      ]
     },
     "execution_count": 52,
     "metadata": {},
     "output_type": "execute_result"
    }
   ],
   "source": [
    "np.ceil((k2/n2)*100)"
   ]
  },
  {
   "cell_type": "markdown",
   "id": "30fe5ca4",
   "metadata": {},
   "source": [
    "### Species"
   ]
  },
  {
   "cell_type": "code",
   "execution_count": 53,
   "id": "599eac2e",
   "metadata": {},
   "outputs": [
    {
     "name": "stdout",
     "output_type": "stream",
     "text": [
      "[75, 79]\n"
     ]
    }
   ],
   "source": [
    "k2 = 0\n",
    "n2 = 0\n",
    "inds = []\n",
    "bla = []\n",
    "\n",
    "for id_ in IDs_to_check:\n",
    "    tst_a = df_act_[df_act['ID']==id_]\n",
    "    tst_p = df_pred_[df_pred['ID']==id_]\n",
    "    \n",
    "    fam_a = tst_a['Species1'].iloc[0]\n",
    "    fam_p = tst_p['species'].iloc[0]\n",
    "\n",
    "    if (is_nan_(fam_a) == False) and (is_nan_(fam_p) == False):\n",
    "        if (fam_a == fam_p) or (fam_a.lower() in fam_p.lower()):\n",
    "            k2 = k2+1\n",
    "        else:\n",
    "            r = fuzz.ratio(fam_a.lower(), fam_p.lower())\n",
    "            if r > 80:\n",
    "                k2 = k2+1\n",
    "                bla.append([fam_a.lower(),fam_p.lower()])\n",
    "\n",
    "        n2 +=1\n",
    "        inds.append(id_)\n",
    "\n",
    "    \n",
    "print([k2,n2])"
   ]
  },
  {
   "cell_type": "code",
   "execution_count": 54,
   "id": "0ba7663f",
   "metadata": {},
   "outputs": [
    {
     "data": {
      "text/plain": [
       "95.0"
      ]
     },
     "execution_count": 54,
     "metadata": {},
     "output_type": "execute_result"
    }
   ],
   "source": [
    "np.ceil((k2/n2)*100)"
   ]
  },
  {
   "cell_type": "markdown",
   "id": "6a659782",
   "metadata": {},
   "source": [
    "### Collector"
   ]
  },
  {
   "cell_type": "markdown",
   "id": "9696d14f",
   "metadata": {},
   "source": [
    "#### Test"
   ]
  },
  {
   "cell_type": "code",
   "execution_count": 208,
   "id": "79ad81c1",
   "metadata": {},
   "outputs": [
    {
     "data": {
      "text/html": [
       "<div>\n",
       "<style scoped>\n",
       "    .dataframe tbody tr th:only-of-type {\n",
       "        vertical-align: middle;\n",
       "    }\n",
       "\n",
       "    .dataframe tbody tr th {\n",
       "        vertical-align: top;\n",
       "    }\n",
       "\n",
       "    .dataframe thead th {\n",
       "        text-align: right;\n",
       "    }\n",
       "</style>\n",
       "<table border=\"1\" class=\"dataframe\">\n",
       "  <thead>\n",
       "    <tr style=\"text-align: right;\">\n",
       "      <th></th>\n",
       "      <th>ID</th>\n",
       "      <th>Family1</th>\n",
       "      <th>RegisterNumber(Year)</th>\n",
       "      <th>Genus1</th>\n",
       "      <th>Species1</th>\n",
       "      <th>Subspecies1</th>\n",
       "      <th>Collection</th>\n",
       "    </tr>\n",
       "  </thead>\n",
       "  <tbody>\n",
       "    <tr>\n",
       "      <th>944</th>\n",
       "      <td>945</td>\n",
       "      <td>NaN</td>\n",
       "      <td>1909.0</td>\n",
       "      <td>Scardafella</td>\n",
       "      <td>inca</td>\n",
       "      <td>NaN</td>\n",
       "      <td>Godman-Salvin Coll.</td>\n",
       "    </tr>\n",
       "  </tbody>\n",
       "</table>\n",
       "</div>"
      ],
      "text/plain": [
       "      ID Family1  RegisterNumber(Year)       Genus1 Species1 Subspecies1  \\\n",
       "944  945     NaN                1909.0  Scardafella     inca         NaN   \n",
       "\n",
       "              Collection  \n",
       "944  Godman-Salvin Coll.  "
      ]
     },
     "execution_count": 208,
     "metadata": {},
     "output_type": "execute_result"
    }
   ],
   "source": [
    "df_act_[df_act_['ID'] == 945]"
   ]
  },
  {
   "cell_type": "code",
   "execution_count": 209,
   "id": "a333ab22",
   "metadata": {},
   "outputs": [
    {
     "data": {
      "text/html": [
       "<div>\n",
       "<style scoped>\n",
       "    .dataframe tbody tr th:only-of-type {\n",
       "        vertical-align: middle;\n",
       "    }\n",
       "\n",
       "    .dataframe tbody tr th {\n",
       "        vertical-align: top;\n",
       "    }\n",
       "\n",
       "    .dataframe thead th {\n",
       "        text-align: right;\n",
       "    }\n",
       "</style>\n",
       "<table border=\"1\" class=\"dataframe\">\n",
       "  <thead>\n",
       "    <tr style=\"text-align: right;\">\n",
       "      <th></th>\n",
       "      <th>ID</th>\n",
       "      <th>family</th>\n",
       "      <th>registrationNumber</th>\n",
       "      <th>genus</th>\n",
       "      <th>species</th>\n",
       "      <th>collector</th>\n",
       "    </tr>\n",
       "  </thead>\n",
       "  <tbody>\n",
       "    <tr>\n",
       "      <th>128</th>\n",
       "      <td>945</td>\n",
       "      <td>Columbidae</td>\n",
       "      <td>1909.10.1.16.18</td>\n",
       "      <td>Columbina</td>\n",
       "      <td>Columbina inca</td>\n",
       "      <td>W B Richardson Godman Salvin Colin</td>\n",
       "    </tr>\n",
       "  </tbody>\n",
       "</table>\n",
       "</div>"
      ],
      "text/plain": [
       "      ID      family registrationNumber      genus         species  \\\n",
       "128  945  Columbidae    1909.10.1.16.18  Columbina  Columbina inca   \n",
       "\n",
       "                              collector  \n",
       "128  W B Richardson Godman Salvin Colin  "
      ]
     },
     "execution_count": 209,
     "metadata": {},
     "output_type": "execute_result"
    }
   ],
   "source": [
    "df_pred_[df_pred_['ID'] == 945]"
   ]
  },
  {
   "cell_type": "code",
   "execution_count": 212,
   "id": "04d34048",
   "metadata": {},
   "outputs": [],
   "source": [
    "a = df_act_[df_act_['ID'] == 945]['Collection'].iloc[0].lower()\n",
    "b = df_pred_[df_pred_['ID'] == 945]['collector'].iloc[0].lower()"
   ]
  },
  {
   "cell_type": "code",
   "execution_count": 213,
   "id": "231a6483",
   "metadata": {},
   "outputs": [
    {
     "data": {
      "text/plain": [
       "60"
      ]
     },
     "execution_count": 213,
     "metadata": {},
     "output_type": "execute_result"
    }
   ],
   "source": [
    "fuzz.ratio(a,b)"
   ]
  },
  {
   "cell_type": "markdown",
   "id": "59a0d702",
   "metadata": {},
   "source": [
    "#### Fuzzy Threshold = 60"
   ]
  },
  {
   "cell_type": "code",
   "execution_count": 57,
   "id": "37ba880d",
   "metadata": {},
   "outputs": [
    {
     "name": "stdout",
     "output_type": "stream",
     "text": [
      "[119, 119]\n"
     ]
    }
   ],
   "source": [
    "k2 = 0\n",
    "n2 = 0\n",
    "inds = []\n",
    "bla = []\n",
    "\n",
    "for id_ in IDs_to_check:\n",
    "    tst_a = df_act_[df_act['ID']==id_]\n",
    "    tst_p = df_pred_[df_pred['ID']==id_]\n",
    "    \n",
    "    a = tst_a['Collection'].iloc[0]\n",
    "    p = tst_p['collector'].iloc[0]\n",
    "    \n",
    "    if (is_nan_(a) == False) and (is_nan_(p) == False):\n",
    "\n",
    "        if (a.lower() == p.lower()) or (a.lower() in p.lower()):\n",
    "\n",
    "            if (a == p) or (a in p):\n",
    "                k2 = k2+1\n",
    "            else:\n",
    "                r = fuzz.ratio(a.lower(), p.lower())\n",
    "                if r >= 60:\n",
    "                    k2 = k2+1\n",
    "                    bla.append([a.lower(),p.lower()])\n",
    "\n",
    "            n2 +=1\n",
    "            inds.append(id_)\n",
    "\n",
    "    \n",
    "print([k2,n2])"
   ]
  },
  {
   "cell_type": "code",
   "execution_count": 58,
   "id": "9a588ce1",
   "metadata": {},
   "outputs": [
    {
     "data": {
      "text/plain": [
       "100.0"
      ]
     },
     "execution_count": 58,
     "metadata": {},
     "output_type": "execute_result"
    }
   ],
   "source": [
    "np.ceil((k2/n2)*100)"
   ]
  },
  {
   "cell_type": "markdown",
   "id": "e7b72f9e",
   "metadata": {},
   "source": [
    "#### Fuzzy Threshold = 80"
   ]
  },
  {
   "cell_type": "code",
   "execution_count": 55,
   "id": "9b6544ca",
   "metadata": {},
   "outputs": [
    {
     "name": "stdout",
     "output_type": "stream",
     "text": [
      "[139, 218]\n"
     ]
    }
   ],
   "source": [
    "k2 = 0\n",
    "n2 = 0\n",
    "inds = []\n",
    "bla = []\n",
    "\n",
    "for id_ in IDs_to_check:\n",
    "    tst_a = df_act_[df_act['ID']==id_]\n",
    "    tst_p = df_pred_[df_pred['ID']==id_]\n",
    "    \n",
    "    a = tst_a['Collection'].iloc[0]\n",
    "    p = tst_p['collector'].iloc[0]\n",
    "    \n",
    "\n",
    "    if (is_nan_(a) == False) and (is_nan_(p) == False):\n",
    "        \n",
    "        if (a.lower() == p.lower()) or (a.lower() in p.lower()):\n",
    "            k2 = k2+1\n",
    "        else:\n",
    "            r = fuzz.ratio(a.lower(), p.lower())\n",
    "            if r >= 80:\n",
    "                k2 = k2+1\n",
    "                bla.append([a.lower(),p.lower()])\n",
    "\n",
    "        n2 +=1\n",
    "        inds.append(id_)\n",
    "\n",
    "    \n",
    "print([k2,n2])"
   ]
  },
  {
   "cell_type": "code",
   "execution_count": 56,
   "id": "ba1f7a54",
   "metadata": {},
   "outputs": [
    {
     "data": {
      "text/plain": [
       "64.0"
      ]
     },
     "execution_count": 56,
     "metadata": {},
     "output_type": "execute_result"
    }
   ],
   "source": [
    "np.ceil((k2/n2)*100)"
   ]
  },
  {
   "cell_type": "markdown",
   "id": "eca68cbe",
   "metadata": {},
   "source": [
    "__TL;DR__ - Best accuracies (excluding empty entries) per category:\n",
    "- Registration year: 100%\n",
    "- Family: 100%\n",
    "- Genus: 93% (fuzz threshold: 90)\n",
    "- Species: 95% (fuzz threshold: 80)\n",
    "- Collector: 100% (fuzz threshold: 60)"
   ]
  },
  {
   "cell_type": "code",
   "execution_count": null,
   "id": "e172cb7b",
   "metadata": {},
   "outputs": [],
   "source": []
  }
 ],
 "metadata": {
  "kernelspec": {
   "display_name": "Python 3 (ipykernel)",
   "language": "python",
   "name": "python3"
  },
  "language_info": {
   "codemirror_mode": {
    "name": "ipython",
    "version": 3
   },
   "file_extension": ".py",
   "mimetype": "text/x-python",
   "name": "python",
   "nbconvert_exporter": "python",
   "pygments_lexer": "ipython3",
   "version": "3.9.7"
  }
 },
 "nbformat": 4,
 "nbformat_minor": 5
}
